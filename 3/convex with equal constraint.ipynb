{
 "cells": [
  {
   "cell_type": "code",
   "execution_count": 1,
   "metadata": {},
   "outputs": [],
   "source": [
    "import numpy as np \n",
    "from matplotlib import pyplot as plt \n",
    "from mpl_toolkits.mplot3d import Axes3D\n",
    "from matplotlib import animation\n",
    "from IPython.display import HTML,Image\n",
    "import seaborn as sns\n",
    "import time \n",
    "\n",
    "%matplotlib inline\n",
    "plt.style.use('seaborn-white')"
   ]
  },
  {
   "cell_type": "markdown",
   "metadata": {},
   "source": [
    "# 等式约束熵极大化\n",
    "$$\n",
    "\\begin{align}\n",
    "&\\min \\quad f(x)=\\sum_{i=1}^n x_i \\log x_i \\\\\n",
    "&s.t. \\quad Ax=b\n",
    "\\end{align}\n",
    "$$\n",
    "其中$dom f=\\Bbb{R}^{n}_{++},A\\in \\Bbb{R}^{p\\times n},p<n$\n",
    "\n",
    "假设$n=100,p=30$\n",
    "\n",
    "分别采用下列方法计算\n",
    "\n",
    "* 标准Newton \n",
    "* 不可行初始点的Newton 方法\n",
    "* 对偶问题的Newton 方法"
   ]
  },
  {
   "cell_type": "code",
   "execution_count": 2,
   "metadata": {},
   "outputs": [],
   "source": [
    "# 全局变量 维数\n",
    "n,p=100,30 "
   ]
  },
  {
   "cell_type": "code",
   "execution_count": 3,
   "metadata": {},
   "outputs": [
    {
     "name": "stdout",
     "output_type": "stream",
     "text": [
      "Rank(A)=30\n",
      "(30, 1)\n"
     ]
    }
   ],
   "source": [
    "# 生成矩阵A和x,求出b\n",
    "# 其中x作为初值\n",
    "# 固定随机种子\n",
    "np.random.seed(0)\n",
    "x_0=np.random.uniform(size=(n,1))\n",
    "# 寻找满秩矩阵 \n",
    "while True:\n",
    "    A=np.random.random(size=(p,n)) # A的分布不要有负数\n",
    "    if np.linalg.matrix_rank(A)==p:\n",
    "        print('Rank(A)={}'.format(np.linalg.matrix_rank(A)))\n",
    "        break \n",
    "# 生成b  \n",
    "b=np.dot(A,x_0)\n",
    "A_T=A.T \n",
    "print(b.shape)"
   ]
  },
  {
   "cell_type": "code",
   "execution_count": 4,
   "metadata": {},
   "outputs": [],
   "source": [
    "# 定义f(x)\n",
    "\n",
    "f=lambda x:np.sum(x*np.log(x))"
   ]
  },
  {
   "cell_type": "markdown",
   "metadata": {},
   "source": [
    "## standard Newton Method with equation constraint\n"
   ]
  },
  {
   "cell_type": "markdown",
   "metadata": {},
   "source": [
    "\\begin{align}\n",
    "&\\min \\quad \\sum_{i=1}^n x_i \\log x_i \\\\\n",
    "&s.t. \\quad Ax=b\n",
    "\\end{align}"
   ]
  },
  {
   "cell_type": "markdown",
   "metadata": {},
   "source": [
    "### $\\nabla f(x)$\n",
    "$$\n",
    "\\begin{align}\n",
    "\\frac{\\partial f}{\\partial x_i}=\\log x_i+1\n",
    "\\end{align}\n",
    "$$"
   ]
  },
  {
   "cell_type": "code",
   "execution_count": 5,
   "metadata": {},
   "outputs": [],
   "source": [
    "# 梯度\n",
    "\n",
    "grad=lambda x:np.log(x)+1"
   ]
  },
  {
   "cell_type": "markdown",
   "metadata": {},
   "source": [
    "### $\\nabla ^2 f(x)$\n",
    "$$\n",
    "\\begin{align}\n",
    "&\\frac{\\partial f}{\\partial x_i \\partial x_j}=0 \\\\\n",
    "&\\frac{\\partial f}{\\partial x_i \\partial x_i}=\\frac{1}{x_i} \\\\\n",
    "\\end{align}\n",
    "$$"
   ]
  },
  {
   "cell_type": "code",
   "execution_count": 6,
   "metadata": {},
   "outputs": [],
   "source": [
    "# Hessian matrix\n",
    "def H(x): # input(100,1)=>(100,100)\n",
    "    temp=np.reshape(1.0/x,n)\n",
    "    return np.diag(temp)"
   ]
  },
  {
   "cell_type": "markdown",
   "metadata": {},
   "source": [
    "$\\lambda^2(x)=v^T\\nabla^2 f(x)v$"
   ]
  },
  {
   "cell_type": "code",
   "execution_count": 7,
   "metadata": {},
   "outputs": [],
   "source": [
    "# Newton decrement\n",
    "# 计算的为lambda的平方\n",
    "# def dec(x,v):\n",
    "#     return np.dot(np.dot(v.T,H(x)),v)\n",
    "dec=lambda x,v:np.dot(np.dot(v.T,H(x)),v)"
   ]
  },
  {
   "cell_type": "code",
   "execution_count": 8,
   "metadata": {},
   "outputs": [],
   "source": [
    "# 回溯直线搜索\n",
    "def lineSearch(x,d,Decr): # x:迭代点,d:方向，dec:Newton decrement\n",
    "    alpha,beta,t=0.5,0.8,1\n",
    "    while (f(x+t*d)>f(x)-alpha*t*Decr):\n",
    "        t=t*beta \n",
    "    return t\n",
    "        \n"
   ]
  },
  {
   "cell_type": "markdown",
   "metadata": {},
   "source": [
    "## 算法流程\n",
    "\n",
    "---\n",
    "给定起始点$x,\\epsilon$\n",
    "**Repeat**\n",
    "* 解KKT 方程=> $\\Delta x_{nt},\\lambda (x)$\n",
    "* quit if $\\lambda^2/2 \\le \\epsilon$\n",
    "* line search 确定步长$t$\n",
    "* Update: $x:=x+t\\Delta x_{nt}$\n",
    "\n",
    "---\n"
   ]
  },
  {
   "cell_type": "code",
   "execution_count": 9,
   "metadata": {},
   "outputs": [
    {
     "name": "stdout",
     "output_type": "stream",
     "text": [
      "第0轮:-25.28682676146397\n",
      "第1轮:-31.697888382730685\n",
      "第2轮:-33.441493955324795\n",
      "第3轮:-33.76524461665182\n",
      "第4轮:-33.79999421704181\n",
      "第5轮:-33.8005789968245\n",
      "第6轮:-33.80057915377152\n",
      "第7轮:-33.80057915377154\n",
      "运行时间:0.03899884223937988sec\n",
      "最优解x:[[0.45166225 0.84568564 0.62153312 0.32612493 0.2820677  0.3639384\n",
      "  0.6348756  0.41255929 0.52089115 0.3350072  0.34637185 0.60604723\n",
      "  0.47780668 0.66914287 0.51982616 0.31537145 0.27842364 0.6054929\n",
      "  0.46693882 0.5353154  0.54863546 0.56366831 0.50945812 0.46803076\n",
      "  0.35828658 0.50910637 0.2741074  0.34986025 0.33905688 0.45523651\n",
      "  0.36334229 0.46494663 0.34730977 0.42964977 0.44376248 0.74709176\n",
      "  0.36196932 0.52321455 0.78111212 0.33303606 0.60925773 0.75305684\n",
      "  0.53771784 0.29948453 0.56923248 0.36495248 0.35873151 0.45689283\n",
      "  0.29889381 0.33187752 0.66805924 0.5996819  0.60377927 0.38187966\n",
      "  0.58511276 0.4775522  0.49479036 0.51264297 0.40829874 0.47382847\n",
      "  0.32141838 0.55714756 0.42809245 0.4909001  0.3921601  0.4333641\n",
      "  0.49079635 0.2929885  0.59853906 0.48687892 0.63869254 0.36033579\n",
      "  0.53328371 0.44875958 0.3741046  0.35570344 0.36126836 0.60781606\n",
      "  0.45106908 0.60035148 0.46111003 0.50843291 0.30237889 0.44347874\n",
      "  0.49607919 0.3426815  0.40525825 0.35568381 0.44051307 0.46155512\n",
      "  0.40318006 0.83399458 0.31007935 0.44541947 0.32324288 0.38854002\n",
      "  0.76768556 0.33710145 0.60170978 0.41566571]]\n"
     ]
    }
   ],
   "source": [
    "# given x,epsilon\n",
    "# 这一部分全部使用np.narray\n",
    "x_1=x_0.copy()\n",
    "epsilon=1e-20\n",
    "# 迭代次数\n",
    "step=0\n",
    "# \n",
    "Loss_1=[]\n",
    "z1,z2=np.zeros((30,30)),np.zeros((30,1))\n",
    "start_time=time.time()\n",
    "while True:\n",
    "    # 计算loss\n",
    "    loss=f(x_1)\n",
    "    Loss_1.append(loss)\n",
    "    print(\"第{}轮:{}\".format(step,loss))\n",
    "    # 计算梯度\n",
    "    g,Hessian=grad(x_1),H(x_1)\n",
    "    # solve KKT equation\n",
    "    W=np.bmat([[Hessian,A_T],[A,z1]]).A # ndim=(130,130)\n",
    "    y=-np.bmat([[g],[z2]]).A\n",
    "    ans=np.linalg.solve(W,y)\n",
    "    # 原方向，对偶方向\n",
    "    d,w=ans[:n],ans[n:]\n",
    "    # Newton decrement\n",
    "    decrment=dec(x_1,d)[0][0] # 此处应转换(1,1)=>num\n",
    "    # stop criteria\n",
    "    if 0.5*decrment<=epsilon:\n",
    "        break\n",
    "    t=lineSearch(x_1,d,decrment)\n",
    "    # update\n",
    "    x_1=x_1+t*d\n",
    "    step+=1 \n",
    "    \n",
    "print(\"运行时间:{}sec\".format(time.time()-start_time))\n",
    "print('最优解x:{}'.format(x_1.T))"
   ]
  },
  {
   "cell_type": "code",
   "execution_count": 10,
   "metadata": {
    "slideshow": {
     "slide_type": "notes"
    }
   },
   "outputs": [
    {
     "data": {
      "text/plain": [
       "<matplotlib.legend.Legend at 0x20ff5180a88>"
      ]
     },
     "execution_count": 10,
     "metadata": {},
     "output_type": "execute_result"
    },
    {
     "data": {
      "image/png": "[encoded data removed]",
      "text/plain": [
       "<Figure size 432x288 with 1 Axes>"
      ]
     },
     "metadata": {
      "image/png": {
       "height": 273,
       "width": 383
      },
      "needs_background": "light"
     },
     "output_type": "display_data"
    }
   ],
   "source": [
    "%config InlineBackend.figure_format='retina'\n",
    "plt.plot(Loss_1,label='training loss')\n",
    "plt.title('Loss with Newton method')\n",
    "plt.xlabel('times')\n",
    "plt.ylabel('loss')\n",
    "plt.legend()\n"
   ]
  },
  {
   "cell_type": "markdown",
   "metadata": {},
   "source": [
    "## Starting from Infeasible Newton Method"
   ]
  },
  {
   "cell_type": "code",
   "execution_count": 11,
   "metadata": {},
   "outputs": [],
   "source": [
    "# 读取数据\n",
    "A=np.loadtxt('A.txt')\n",
    "b=np.loadtxt('b.txt')"
   ]
  },
  {
   "cell_type": "code",
   "execution_count": 12,
   "metadata": {},
   "outputs": [],
   "source": [
    "# 梯度\n",
    "grad=lambda x:np.log(x)+1\n",
    "# Hessian\n",
    "def H(x): # input(100,1)=>(100,100)\n",
    "    temp=np.reshape(1.0/x,n)\n",
    "    return np.diag(temp)\n",
    "# 原函数\n",
    "f=lambda x:np.sum(x*np.log(x))\n",
    "# 对偶残差与原残差\n",
    "def r(x,v):\n",
    "    rol_1=grad(x)+np.dot(A.T,v)\n",
    "    rol_2=np.dot(A,x)-b\n",
    "    return np.concatenate((rol_1,rol_2),axis=0)\n",
    "#计算二范数\n",
    "Norm=lambda x:np.linalg.norm(x)\n",
    "\n"
   ]
  },
  {
   "cell_type": "code",
   "execution_count": 13,
   "metadata": {},
   "outputs": [],
   "source": [
    "# Newton direction\n",
    "def d_nt(grad,hessian,v):\n",
    "    zero1=np.zeros((30,30))\n",
    "    # 拼接矩阵\n",
    "    W_c1=np.concatenate((hessian,A),axis=0) # 纵向\n",
    "    W_c2=np.concatenate((A.T,zero1),axis=0)\n",
    "    W=np.concatenate((W_c1,W_c2),axis=1) # 横向\n",
    "    \n",
    "    b_new=-r(x,v)\n",
    "    # d,w \n",
    "    res=np.linalg.solve(W,b_new)\n",
    "    return res[:n],res[n:]"
   ]
  },
  {
   "cell_type": "markdown",
   "metadata": {},
   "source": [
    "**算法(Infeasible start Newton method)**\n",
    "\n",
    "---\n",
    "给定起始点$x \\in dom f$,v,tolerance $\\epsilon>0,\\alpha \\in (0,1/2)$\n",
    "\n",
    "**Repeat**\n",
    "* 计算原对偶牛顿方向$\\Delta x_{nt},\\Delta v_{nt}$\n",
    "* 对$\\|r\\|_2$ 直线回溯搜素\n",
    "  * $t:=1$\n",
    "  * **while** $\\|r(x+t\\Delta x_{nt},v+t\\Delta v_{nt}) \\|_2>(1-\\alpha t)\\|r(x,v)\\|_2$\n",
    "* 更新:$x:=x+t\\Delta x_{nt},v:=v+t\\Delta v_{nt}$\n",
    "  \n",
    "\n",
    "**Until** $Ax=b$ and $\\|r(x,v)\\|_2\\leq \\epsilon$\n",
    "\n",
    "---"
   ]
  },
  {
   "cell_type": "code",
   "execution_count": 14,
   "metadata": {},
   "outputs": [
    {
     "name": "stdout",
     "output_type": "stream",
     "text": [
      "第0轮r(x,v)=69.57356345900297,loss=-25.82140130626489\n",
      "第1轮r(x,v)=5.476387539373369,loss=-30.27382509702816\n",
      "第2轮r(x,v)=1.3467250832035884,loss=-32.54316575001707\n",
      "第3轮r(x,v)=0.19819709552704912,loss=-32.77664323634768\n",
      "第4轮r(x,v)=0.007322873236739119,loss=-32.78268432720578\n",
      "第5轮r(x,v)=1.2252356910121065e-05,loss=-32.782692895293614\n",
      "第6轮r(x,v)=3.8308966240138544e-11,loss=-32.782692895318014\n",
      "最优解x=[0.61240132 0.5149147  0.60478261 0.68467012 0.65637014 0.46460761\n",
      " 0.55790405 0.51210362 0.41623328 0.82888925 0.34576797 0.48288991\n",
      " 0.30172109 0.39117254 0.29953613 0.41954109 0.6530249  0.60804933\n",
      " 0.40469509 0.52827795 0.77095639 0.62488936 0.54991489 0.38838572\n",
      " 1.08907977 0.41769904 0.4056318  0.48302407 0.75967002 0.4091075\n",
      " 0.49851168 0.63867099 0.36740862 0.41175233 0.47032237 0.30919096\n",
      " 0.60444848 0.42247143 0.44322015 0.47864496 0.36577649 0.38463484\n",
      " 0.47889732 0.57331565 0.4679424  0.90465925 0.40695724 0.40546196\n",
      " 0.75938205 0.49866763 0.36734444 0.3583664  0.5426326  0.49064586\n",
      " 0.4481237  0.34757991 0.5333863  0.65137441 0.42117122 0.37181017\n",
      " 0.42410897 0.46093533 0.60132985 0.39720543 0.543493   0.61850285\n",
      " 0.73593926 0.43983627 0.63974375 0.35688797 0.4462899  0.40709589\n",
      " 0.47427926 0.43790682 0.54249449 0.4389736  0.54416886 0.41345152\n",
      " 0.58472043 0.42030161 0.49273256 0.34177592 0.58823503 0.38233969\n",
      " 0.45626731 0.43123299 0.36820406 0.51290433 0.6717     0.44097957\n",
      " 0.68196377 0.53515258 0.61523883 0.52864123 0.65772349 0.5190426\n",
      " 0.52485979 0.53073706 0.53973349 0.39359532]\n",
      "最优值p=-32.782692895318014\n",
      "计算时间=0.03200030326843262sec\n"
     ]
    }
   ],
   "source": [
    "# 随机初始化参数\n",
    "x=np.random.uniform(size=(n,))\n",
    "v=np.random.random(p)\n",
    "# 超参数\n",
    "eps=1e-12\n",
    "alpha,beta=0.2,0.5\n",
    "\n",
    "# 原方向以及对偶方向\n",
    "Hessian=H(x)\n",
    "g=grad(x)\n",
    "dk,dv=d_nt(g,Hessian,v)\n",
    "step=0\n",
    "start_time=time.time()\n",
    "loss_hist=[]\n",
    "while (Norm(r(x,v))>eps) and ((np.dot(A,x)-b).any()>1e-4):\n",
    "    loss=f(x)\n",
    "    print(\"第{}轮r(x,v)={},loss={}\".format(step,Norm(r(x,v)),loss))\n",
    "    loss_hist.append(loss)\n",
    "    # line Search\n",
    "    t=1.0 \n",
    "    while Norm(r(x+t*dk,v+t*dv))>(1-alpha*t)*Norm(r(x,v)):\n",
    "        t=beta*t \n",
    "    x+=t*dk\n",
    "    v+=t*dv\n",
    "    Hessian=H(x)\n",
    "    g=grad(x)\n",
    "    dk,dv=d_nt(g,Hessian,v)\n",
    "    step+=1 \n",
    "print(\"最优解x={}\".format(x))\n",
    "print(\"最优值p={}\".format(f(x)))\n",
    "print(\"计算时间={}sec\".format(time.time()-start_time))"
   ]
  },
  {
   "cell_type": "code",
   "execution_count": 15,
   "metadata": {},
   "outputs": [
    {
     "data": {
      "text/plain": [
       "<matplotlib.legend.Legend at 0x20ff6402a48>"
      ]
     },
     "execution_count": 15,
     "metadata": {},
     "output_type": "execute_result"
    },
    {
     "data": {
      "image/png": "[encoded data removed]",
      "text/plain": [
       "<Figure size 432x288 with 1 Axes>"
      ]
     },
     "metadata": {
      "image/png": {
       "height": 273,
       "width": 383
      },
      "needs_background": "light"
     },
     "output_type": "display_data"
    }
   ],
   "source": [
    "%config InlineBackend.figure_format='retina'\n",
    "plt.plot(loss_hist,label='training loss')\n",
    "plt.title('Loss with infeasible Newton method')\n",
    "plt.xlabel('times')\n",
    "plt.ylabel('loss')\n",
    "plt.legend()"
   ]
  }
 ],
 "metadata": {
  "celltoolbar": "Raw Cell Format",
  "kernelspec": {
   "display_name": "Python 3",
   "language": "python",
   "name": "python3"
  },
  "language_info": {
   "codemirror_mode": {
    "name": "ipython",
    "version": 3
   },
   "file_extension": ".py",
   "mimetype": "text/x-python",
   "name": "python",
   "nbconvert_exporter": "python",
   "pygments_lexer": "ipython3",
   "version": "3.7.4"
  }
 },
 "nbformat": 4,
 "nbformat_minor": 2
}
