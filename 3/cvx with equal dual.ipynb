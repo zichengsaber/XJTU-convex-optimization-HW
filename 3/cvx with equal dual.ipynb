{
 "cells": [
  {
   "cell_type": "code",
   "execution_count": 1,
   "metadata": {},
   "outputs": [],
   "source": [
    "import numpy as np\n",
    "import matplotlib.pyplot as plt \n",
    "%matplotlib inline\n",
    "# 对偶函数可行解，由v计算x\n",
    "def back(v):\n",
    "    x = np.zeros(100)\n",
    "    for i in range(100):\n",
    "        x[i] = np.exp(-np.dot(v, A[:, i]) - 1)\n",
    "    return x\n",
    "\n",
    "\n",
    "# 代入可行解，求得对偶函数\n",
    "def f(v, b, A):\n",
    "    result = -np.dot(b, v)\n",
    "    for i in range(100):\n",
    "        result = result - np.exp(-np.dot(v, A[:, i])-1)\n",
    "    return -result\n",
    "\n",
    "\n",
    "# 计算梯度\n",
    "def grad(v, b, A):\n",
    "    result = np.zeros(30)\n",
    "    for i in range(30):\n",
    "        s = 0\n",
    "        for k in range(100):\n",
    "            s = s + A[i][k]*np.exp(-np.dot(v, A[:, k])-1)\n",
    "        result[i] = -b[i] + s\n",
    "    return -result\n",
    "\n",
    "\n",
    "# 计算Hessian矩阵\n",
    "def hessian(v, A):\n",
    "    result = np.zeros((30, 30))\n",
    "    for i in range(30):\n",
    "        for j in range(30):\n",
    "            h = 0\n",
    "            for k in range(100):\n",
    "                h = h + A[i][k]*A[j][k]*np.exp(-np.dot(v, A[:, k])-1)\n",
    "            result[i][j] = -h\n",
    "    return -result\n",
    "\n",
    "\n",
    "\n"
   ]
  },
  {
   "cell_type": "code",
   "execution_count": 2,
   "metadata": {},
   "outputs": [],
   "source": [
    "#牛顿方向\n",
    "dnt=lambda hessian,grad:-np.dot(np.linalg.inv(hessian),grad)\n",
    "# 牛顿减少量\n",
    "lambda_2=lambda dk,hessian:np.dot(np.dot(dk,hessian),dk.T)"
   ]
  },
  {
   "cell_type": "markdown",
   "metadata": {},
   "source": [
    "## 牛顿法 (Newton Method)\n",
    "* given a start point $x \\in dom L$\n",
    "* repeat\n",
    "    * compute gradient $\\nabla L(x)$\n",
    "    * compute newton direction $\\Delta x_{nt}=-\\nabla^2 L(x)^{-1}\\nabla L(x)$\n",
    "    * compute newton decrement $\\lambda (x)=(\\Delta x_{nt}^T\\nabla^2 L(x) \\Delta x_{nt})^{1/2}$\n",
    "    * line search: choose learning rate $t$\n",
    "    * update: $x:=x+t\\Delta x_{nt}$\n",
    "    \n",
    "## 回溯直线搜索(line search)\n",
    "* initialize $\\alpha \\in (0,0.5] $,$\\beta \\in [0,1]$,$t=1$\n",
    "* while $L(x+t\\Delta x_{sd})>L(x)+\\alpha t\\nabla L(x)^T\\Delta x_{sd}$\n",
    "    * $t:=\\beta t$\n",
    "* end"
   ]
  },
  {
   "cell_type": "code",
   "execution_count": 4,
   "metadata": {},
   "outputs": [
    {
     "name": "stdout",
     "output_type": "stream",
     "text": [
      "第0轮:loss=-156.10648835869313\n",
      "第1轮:loss=-118.13581097077937\n",
      "第2轮:loss=-57.94775939186362\n",
      "第3轮:loss=-39.52813669621822\n",
      "第4轮:loss=-34.06792473493707\n",
      "第5轮:loss=-32.87195746922535\n",
      "第6轮:loss=-32.7833023058429\n",
      "第7轮:loss=-32.78269292711094\n",
      "最优值:x=[0.61240132 0.5149147  0.60478261 0.68467012 0.65637014 0.46460761\n",
      " 0.55790405 0.51210362 0.41623328 0.82888925 0.34576797 0.48288991\n",
      " 0.30172109 0.39117254 0.29953613 0.41954109 0.6530249  0.60804934\n",
      " 0.40469509 0.52827795 0.77095639 0.62488936 0.54991489 0.38838572\n",
      " 1.08907978 0.41769904 0.4056318  0.48302407 0.75967002 0.4091075\n",
      " 0.49851168 0.63867099 0.36740862 0.41175234 0.47032237 0.30919096\n",
      " 0.60444848 0.42247143 0.44322015 0.47864496 0.36577649 0.38463484\n",
      " 0.47889732 0.57331565 0.4679424  0.90465925 0.40695724 0.40546196\n",
      " 0.75938206 0.49866763 0.36734444 0.3583664  0.5426326  0.49064586\n",
      " 0.4481237  0.34757991 0.5333863  0.65137441 0.42117122 0.37181017\n",
      " 0.42410897 0.46093533 0.60132985 0.39720543 0.543493   0.61850285\n",
      " 0.73593926 0.43983627 0.63974375 0.35688797 0.4462899  0.40709589\n",
      " 0.47427926 0.43790682 0.54249449 0.43897361 0.54416886 0.41345152\n",
      " 0.58472043 0.42030161 0.49273256 0.34177592 0.58823503 0.38233969\n",
      " 0.45626731 0.431233   0.36820406 0.51290433 0.6717     0.44097957\n",
      " 0.68196377 0.53515258 0.61523883 0.52864123 0.65772349 0.5190426\n",
      " 0.52485979 0.53073706 0.53973349 0.39359533]\n",
      "最优解:\n",
      "计算时间:3.2437829971313477sec\n"
     ]
    },
    {
     "data": {
      "image/png": "[encoded data removed]",
      "text/plain": [
       "<Figure size 432x288 with 1 Axes>"
      ]
     },
     "metadata": {
      "needs_background": "light"
     },
     "output_type": "display_data"
    }
   ],
   "source": [
    "import time\n",
    "if __name__ == '__main__':\n",
    "    A = np.loadtxt('A.txt')\n",
    "    b = np.loadtxt('b.txt')\n",
    "    # 1.给定初始v和误差值\n",
    "    v = np.ones(30)*0.2\n",
    "    e = 1e-16\n",
    "\n",
    "    # 2.确定牛顿方向和牛顿减少量\n",
    "    hessian_v = hessian(v, A)\n",
    "    grad_v = grad(v, b, A)\n",
    "    dk = dnt(hessian_v, grad_v)\n",
    "    lambda_k2 = lambda_2(dk, hessian_v)\n",
    "    \n",
    "    step=0\n",
    "    Loss_1=[]\n",
    "    # 3.判断是否停止\n",
    "    start_time=time.time()\n",
    "    while lambda_k2/2 > e:\n",
    "        #\n",
    "        loss = -f(v,b,A)\n",
    "        Loss_1.append(loss)\n",
    "        print(\"第{}轮:loss={}\".format(step,loss))\n",
    "        step+=1\n",
    "        # 4.回溯直线搜索\n",
    "        alpha = 0.2\n",
    "        beta = 0.5\n",
    "        t = 1\n",
    "        while f(v+t*dk, b, A) > f(v, b, A)-alpha*t*lambda_k2:\n",
    "            t = beta*t\n",
    "        # 5. 更新\n",
    "        v = v + t*dk\n",
    "        hessian_v = hessian(v, A)\n",
    "        grad_v = grad(v, b, A)\n",
    "        dk = dnt(hessian_v, grad_v)\n",
    "        lambda_k2 = lambda_2(dk, hessian_v)\n",
    "    x = back(v)\n",
    "    print(\"最优值:x={}\".format(x))\n",
    "    print(\"最优解:\".format(-f(v, b, A)))\n",
    "    print(\"计算时间:{}sec\".format(time.time()-start_time))\n",
    "    \n",
    "    plt.plot(Loss_1,label='training loss')\n",
    "    plt.title('Loss with Newton method')\n",
    "    plt.xlabel('times')\n",
    "    plt.ylabel('loss')\n",
    "    plt.legend()"
   ]
  },
  {
   "cell_type": "markdown",
   "metadata": {},
   "source": [
    "> 在numpy使用中尽量少用for循环，多用矩阵运算，这个比第一种方法慢好多\n",
    "> 不过也有可能很大原因时间用在Hessian矩阵上的，这个比前一个的Hessian复杂好多"
   ]
  }
 ],
 "metadata": {
  "kernelspec": {
   "display_name": "Python 3",
   "language": "python",
   "name": "python3"
  },
  "language_info": {
   "codemirror_mode": {
    "name": "ipython",
    "version": 3
   },
   "file_extension": ".py",
   "mimetype": "text/x-python",
   "name": "python",
   "nbconvert_exporter": "python",
   "pygments_lexer": "ipython3",
   "version": "3.7.4"
  }
 },
 "nbformat": 4,
 "nbformat_minor": 2
}
