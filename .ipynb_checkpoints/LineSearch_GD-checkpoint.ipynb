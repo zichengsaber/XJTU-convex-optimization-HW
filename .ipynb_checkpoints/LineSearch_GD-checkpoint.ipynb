{
 "cells": [
  {
   "cell_type": "code",
   "execution_count": 1,
   "metadata": {},
   "outputs": [],
   "source": [
    "import numpy as np\n",
    "import pandas as pd\n",
    "from matplotlib import pyplot as plt\n",
    "from mpl_toolkits.mplot3d import Axes3D\n",
    "from matplotlib import animation\n",
    "from IPython.display import HTML, Image\n",
    "import seaborn as sns\n",
    "import time \n",
    "# sns.set()\n",
    "%matplotlib inline\n",
    "plt.style.use('seaborn-white')"
   ]
  },
  {
   "cell_type": "markdown",
   "metadata": {},
   "source": [
    "$$\n",
    "\\begin{align}\n",
    "&L(x)=\\exp(x_1+3x_2-0.1)+\\exp(x_1-3x_2-0.1)+\\exp(-x_1-0.1) \\\\\n",
    "& \\frac{\\partial L}{\\partial x_1}=\\exp(x_1+3x_2-0.1)+\\exp(x_1-3x_2-0.1)-\\exp(-x_1-0.1) \\\\\n",
    "& \\frac{\\partial L}{\\partial x_2}=3\\exp(x_1+3x_2-0.1)-3\\exp(x_1-3x_2-0.1)\n",
    "\\end{align}\n",
    "$$"
   ]
  },
  {
   "cell_type": "code",
   "execution_count": 2,
   "metadata": {},
   "outputs": [],
   "source": [
    "L=lambda x1,x2: np.exp(x1+3*x2-0.1)+np.exp(x1-3*x2-0.1)+np.exp(-x1-0.1)"
   ]
  },
  {
   "cell_type": "code",
   "execution_count": 3,
   "metadata": {},
   "outputs": [],
   "source": [
    "def compute_grad(x1,x2):\n",
    "    g1=np.exp(x1+3*x2-0.1)+np.exp(x1-3*x2-0.1)-np.exp(-x1-0.1)\n",
    "    g2=3*np.exp(x1+3*x2-0.1)-3*np.exp(x1-3*x2-0.1)\n",
    "    return g1,g2"
   ]
  },
  {
   "cell_type": "code",
   "execution_count": 5,
   "metadata": {},
   "outputs": [],
   "source": [
    "#初始点\n",
    "a,b=1.5,-0.8"
   ]
  },
  {
   "cell_type": "code",
   "execution_count": 4,
   "metadata": {},
   "outputs": [],
   "source": [
    "# 回溯直线搜索\n",
    "def condtition(x1,x2,g1,g2,t,alpha):\n",
    "    left=L(x1-t*g1,x2-t*g2)\n",
    "    right=L(x1,x2)-alpha*t*(g1**2+g2**2)\n",
    "    return left>right\n",
    "def linesearch(x1,x2,g1,g2):\n",
    "    t=1\n",
    "    alpha,beta=0.5,0.8\n",
    "    while condtition(x1,x2,g1,g2,t,alpha):\n",
    "        t=beta*t\n",
    "    return t\n",
    "    "
   ]
  },
  {
   "cell_type": "code",
   "execution_count": 7,
   "metadata": {},
   "outputs": [
    {
     "name": "stdout",
     "output_type": "stream",
     "text": [
      "第0轮loss:45.27096045246693\n",
      "第20轮loss:2.559266696690458\n",
      "第40轮loss:2.5592666966582156\n",
      "第60轮loss:2.5592666966582156\n",
      "第80轮loss:2.5592666966582156\n",
      "第100轮loss:2.5592666966582156\n",
      "第120轮loss:2.5592666966582156\n",
      "第140轮loss:2.5592666966582156\n",
      "第160轮loss:2.5592666966582156\n",
      "第180轮loss:2.5592666966582156\n",
      "0.03403425216674805 sec(s)\n"
     ]
    }
   ],
   "source": [
    "a0,b0=a,b\n",
    "learning_rate=0.001\n",
    "Loss_0=[]\n",
    "a0_history,b0_history=[a0],[b0]\n",
    "startTime=time.time()\n",
    "iteration=200\n",
    "for t in range(iteration):\n",
    "    g1,g2=compute_grad(a0,b0)\n",
    "    loss=L(a0,b0)\n",
    "    Loss_0.append(loss)\n",
    "    if t%20==0:\n",
    "        print(\"第{}轮loss:{}\".format(t,loss))\n",
    "    learning_rate=linesearch(a0,b0,g1,g2)\n",
    "    a0-=learning_rate*g1\n",
    "    b0-=learning_rate*g2    \n",
    "    a0_history.append(a0)\n",
    "    b0_history.append(b0)\n",
    "\n",
    "Loss_0.append(L(a0,b0))\n",
    "print('{} sec(s)'.format(time.time()-startTime))"
   ]
  }
 ],
 "metadata": {
  "kernelspec": {
   "display_name": "Python 3",
   "language": "python",
   "name": "python3"
  },
  "language_info": {
   "codemirror_mode": {
    "name": "ipython",
    "version": 3
   },
   "file_extension": ".py",
   "mimetype": "text/x-python",
   "name": "python",
   "nbconvert_exporter": "python",
   "pygments_lexer": "ipython3",
   "version": "3.7.4"
  }
 },
 "nbformat": 4,
 "nbformat_minor": 2
}
